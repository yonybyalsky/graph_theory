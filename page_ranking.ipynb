{
 "cells": [
  {
   "cell_type": "code",
   "execution_count": 75,
   "id": "47c8163a",
   "metadata": {},
   "outputs": [],
   "source": [
    "import random\n",
    "import matplotlib.pyplot as plt"
   ]
  },
  {
   "cell_type": "code",
   "execution_count": 93,
   "id": "809f581d",
   "metadata": {},
   "outputs": [],
   "source": [
    "pages_links = {\n",
    "    'wikipedia': ['youtube', 'facebook', 'khan'],\n",
    "    'facebook': ['youtube', 'instagram', 'wikipedia'],\n",
    "    'youtube': ['facebook', 'github', 'khan', 'freecodecamp'],\n",
    "    'instagram': ['facebook', 'freecodecamp'],\n",
    "    'github': ['freecodecamp', 'khan', 'wikipedia'],\n",
    "    'freecodecamp': ['khan', 'github', 'youtube'],\n",
    "    'khan': ['wikipedia', 'facebook']\n",
    "}\n",
    "# pages_entrances = {}\n",
    "# pages_degs = {}\n",
    "# for page in pages_links:\n",
    "#     pages_entrances[page] = 0\n",
    "#     pages_degs[page] = {'deg_in': 0, 'deg_out': len(pages_links[page])}\n",
    "# for page in pages_links:\n",
    "#     for page_link in pages_links[page]:\n",
    "#         pages_degs[page_link]['deg_in'] += 1\n",
    "# pages_degs"
   ]
  },
  {
   "cell_type": "code",
   "execution_count": 94,
   "id": "fa5aa054",
   "metadata": {},
   "outputs": [],
   "source": [
    "def bubble_sort_dict(dict_to_sort: dict) -> dict:\n",
    "    dict_items = list(dict_to_sort.items())\n",
    "    for i in range(len(dict_items)):\n",
    "        for j in range(len(dict_items) - 1):\n",
    "            if dict_items[j][1] > dict_items[j + 1][1]:\n",
    "                dict_items[j], dict_items[j + 1] = dict_items[j + 1], dict_items[j]\n",
    "    return dict(dict_items)"
   ]
  },
  {
   "cell_type": "code",
   "execution_count": 111,
   "id": "b3a31aec",
   "metadata": {},
   "outputs": [],
   "source": [
    "def rank_pages(pages_links: dict) -> dict:\n",
    "    pages_entrances = {}\n",
    "    pages_degs = {}\n",
    "    for page in pages_links:\n",
    "        pages_entrances[page] = 0\n",
    "        #pages_degs[page] = {'deg_in': 0, 'deg_out': len(pages_links[page])}\n",
    "#     for page in pages_links:\n",
    "#         for page_link in pages_links[page]:\n",
    "#             pages_degs[page_link]['deg_in'] += 1\n",
    "    current_page = random.choice(list(pages_links.keys()))\n",
    "    for i in range(0, len(pages_links) * 10**4):\n",
    "        current_page = random.choice(pages_links[current_page])\n",
    "        pages_entrances[current_page] += 1\n",
    "    pages_entrances = bubble_sort_dict(pages_entrances)\n",
    "    return pages_entrances"
   ]
  },
  {
   "cell_type": "code",
   "execution_count": 112,
   "id": "3a7706ce",
   "metadata": {},
   "outputs": [
    {
     "data": {
      "text/plain": [
       "{'instagram': 5242,\n",
       " 'github': 5445,\n",
       " 'freecodecamp': 7364,\n",
       " 'khan': 11618,\n",
       " 'youtube': 11804,\n",
       " 'wikipedia': 12875,\n",
       " 'facebook': 15652}"
      ]
     },
     "execution_count": 112,
     "metadata": {},
     "output_type": "execute_result"
    }
   ],
   "source": [
    "rank_pages(pages_links)"
   ]
  },
  {
   "cell_type": "code",
   "execution_count": 113,
   "id": "0d91c6f5",
   "metadata": {},
   "outputs": [],
   "source": [
    "def chart_pages_entrances(pages_entrances: dict):\n",
    "    websites = list(pages_entrances.keys())\n",
    "    entrances = list(pages_entrances.values())\n",
    "    plt.bar(websites, entrances, color ='maroon',width = 0.4)\n",
    " \n",
    "    plt.xlabel('websites')\n",
    "    plt.ylabel(\"No. of entrances to website\")\n",
    "    plt.show()"
   ]
  },
  {
   "cell_type": "code",
   "execution_count": 114,
   "id": "72c6bcc3",
   "metadata": {},
   "outputs": [
    {
     "data": {
      "image/png": "[encoded data removed]",
      "text/plain": [
       "<Figure size 432x288 with 1 Axes>"
      ]
     },
     "metadata": {
      "needs_background": "light"
     },
     "output_type": "display_data"
    }
   ],
   "source": [
    "chart_pages_entrances(rank_pages(pages_links))"
   ]
  },
  {
   "cell_type": "code",
   "execution_count": null,
   "id": "9960ddba",
   "metadata": {},
   "outputs": [],
   "source": []
  }
 ],
 "metadata": {
  "kernelspec": {
   "display_name": "Python 3 (ipykernel)",
   "language": "python",
   "name": "python3"
  },
  "language_info": {
   "codemirror_mode": {
    "name": "ipython",
    "version": 3
   },
   "file_extension": ".py",
   "mimetype": "text/x-python",
   "name": "python",
   "nbconvert_exporter": "python",
   "pygments_lexer": "ipython3",
   "version": "3.9.2"
  }
 },
 "nbformat": 4,
 "nbformat_minor": 5
}
