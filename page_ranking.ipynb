{
 "cells": [
  {
   "cell_type": "code",
   "execution_count": 1,
   "id": "47c8163a",
   "metadata": {},
   "outputs": [],
   "source": [
    "import random\n",
    "import matplotlib.pyplot as plt\n",
    "import math"
   ]
  },
  {
   "cell_type": "code",
   "execution_count": 2,
   "id": "9cd86f0d",
   "metadata": {},
   "outputs": [],
   "source": [
    "pages_links = {\n",
    "    'wikipedia': ['youtube', 'facebook', 'khan'],\n",
    "    'facebook': ['youtube', 'instagram', 'wikipedia'],\n",
    "    'youtube': ['facebook', 'github', 'khan', 'freecodecamp'],\n",
    "    'instagram': ['facebook', 'freecodecamp'],\n",
    "    'github': ['freecodecamp', 'khan', 'wikipedia'],\n",
    "    'freecodecamp': ['khan', 'github', 'youtube'],\n",
    "    'khan': ['wikipedia', 'facebook'],\n",
    "}"
   ]
  },
  {
   "cell_type": "markdown",
   "id": "0a38b39e",
   "metadata": {},
   "source": [
    "to make it more easy to sea what are the most popular and least popular pages:"
   ]
  },
  {
   "cell_type": "code",
   "execution_count": 3,
   "id": "fa5aa054",
   "metadata": {},
   "outputs": [],
   "source": [
    "def bubble_sort_dict(dict_to_sort: dict) -> dict:\n",
    "    dict_items = list(dict_to_sort.items())\n",
    "    for i in range(len(dict_items)):\n",
    "        for j in range(len(dict_items) - 1):\n",
    "            if dict_items[j][1] > dict_items[j + 1][1]:\n",
    "                dict_items[j], dict_items[j + 1] = dict_items[j + 1], dict_items[j]\n",
    "    return dict(dict_items)"
   ]
  },
  {
   "cell_type": "markdown",
   "id": "506e5b8a",
   "metadata": {},
   "source": [
    "simulator that rank the pages:"
   ]
  },
  {
   "cell_type": "code",
   "execution_count": 4,
   "id": "f7a8ae14",
   "metadata": {},
   "outputs": [],
   "source": [
    "def page_rank_simulator(pages_links: dict) -> dict:\n",
    "    pages_entrances = {page: 0 for page in pages_links}\n",
    "    current_page = random.choice(list(pages_links.keys()))\n",
    "    for i in range(len(pages_links) * 10**4):\n",
    "        try:\n",
    "            current_page = random.choice(pages_links[current_page])\n",
    "            pages_entrances[current_page] += 1/(len(pages_links) * 10**2)\n",
    "        except:\n",
    "            current_page = random.choice(list(pages_links.keys()))\n",
    "    pages_entrances = {page: round(pages_entrances[page], 2) for page in pages_entrances}\n",
    "    pages_entrances = bubble_sort_dict(pages_entrances)\n",
    "    return pages_entrances"
   ]
  },
  {
   "cell_type": "code",
   "execution_count": 5,
   "id": "c07113ae",
   "metadata": {},
   "outputs": [
    {
     "data": {
      "text/plain": [
       "{'instagram': 7.46,\n",
       " 'github': 7.8,\n",
       " 'freecodecamp': 10.55,\n",
       " 'khan': 16.4,\n",
       " 'youtube': 17.03,\n",
       " 'wikipedia': 18.41,\n",
       " 'facebook': 22.35}"
      ]
     },
     "execution_count": 5,
     "metadata": {},
     "output_type": "execute_result"
    }
   ],
   "source": [
    "page_rank_simulator(pages_links)"
   ]
  },
  {
   "cell_type": "markdown",
   "id": "be2ffc15",
   "metadata": {},
   "source": [
    "function that chart the pages ranking:"
   ]
  },
  {
   "cell_type": "code",
   "execution_count": 6,
   "id": "a782b0c8",
   "metadata": {},
   "outputs": [],
   "source": [
    "def chart_pages_ranking(pages_entrances: dict):\n",
    "    websites = list(pages_entrances.keys())\n",
    "    entrances = list(pages_entrances.values())\n",
    "    plt.bar(websites, entrances, color ='maroon',width = 0.4)\n",
    " \n",
    "    plt.xlabel('websites')\n",
    "    plt.ylabel(\"No. of entrances to website\")\n",
    "    plt.show()"
   ]
  },
  {
   "cell_type": "code",
   "execution_count": 8,
   "id": "de4c8181",
   "metadata": {},
   "outputs": [
    {
     "data": {
      "image/png": "[encoded data removed]",
      "text/plain": [
       "<Figure size 432x288 with 1 Axes>"
      ]
     },
     "metadata": {
      "needs_background": "light"
     },
     "output_type": "display_data"
    }
   ],
   "source": [
    "chart_pages_ranking(page_rank_simulator(pages_links))"
   ]
  },
  {
   "cell_type": "markdown",
   "id": "f6e88502",
   "metadata": {},
   "source": [
    "to get the websites that pointing to the website"
   ]
  },
  {
   "cell_type": "code",
   "execution_count": 9,
   "id": "6e7c5d71",
   "metadata": {},
   "outputs": [],
   "source": [
    "def pages_degs_in(pages_links: dict) -> dict:\n",
    "    pages_degs_in = {page: [] for page in pages_links}\n",
    "    for page in pages_links:\n",
    "        for link_page in pages_links[page]:\n",
    "            pages_degs_in[link_page].append(page)\n",
    "    return pages_degs_in"
   ]
  },
  {
   "cell_type": "code",
   "execution_count": 10,
   "id": "18aba04f",
   "metadata": {},
   "outputs": [
    {
     "data": {
      "text/plain": [
       "{'wikipedia': ['facebook', 'github', 'khan'],\n",
       " 'facebook': ['wikipedia', 'youtube', 'instagram', 'khan'],\n",
       " 'youtube': ['wikipedia', 'facebook', 'freecodecamp'],\n",
       " 'instagram': ['facebook'],\n",
       " 'github': ['youtube', 'freecodecamp'],\n",
       " 'freecodecamp': ['youtube', 'instagram', 'github'],\n",
       " 'khan': ['wikipedia', 'youtube', 'github', 'freecodecamp']}"
      ]
     },
     "execution_count": 10,
     "metadata": {},
     "output_type": "execute_result"
    }
   ],
   "source": [
    "pages_degs_in(pages_links)"
   ]
  },
  {
   "cell_type": "markdown",
   "id": "efdfd322",
   "metadata": {},
   "source": [
    "the best algorithm i could think of: <br>\n",
    "<ol>\n",
    " <li> given the amount of deg-in and deg-out of a page. the <b>page value</b> will be <b>deg-in / deg-out</b>. </li>\n",
    " <li> the page popularity will be the <b>sum</b> of the <b>pages values</b> that <b>link</b> to him. </li>\n",
    "</ol>\n",
    "the algorithm is not so accurate but its the best I could."
   ]
  },
  {
   "cell_type": "code",
   "execution_count": 11,
   "id": "4975e29e",
   "metadata": {},
   "outputs": [],
   "source": [
    "def my_page_rank_algorithm(pages_links: dict) -> dict:    \n",
    "    pages_values = {page: len(pages_degs_in(pages_links)[page]) / len(pages_links[page]) for page in pages_links}\n",
    "    pages_popularity = {page: 0 for page in pages_links}\n",
    "    for page in pages_links:\n",
    "        for link_page in pages_links[page]:\n",
    "            pages_popularity[link_page] += pages_values[page]\n",
    "    pages_popularity = bubble_sort_dict(pages_popularity)\n",
    "    return pages_popularity"
   ]
  },
  {
   "cell_type": "code",
   "execution_count": 13,
   "id": "ec34feb4",
   "metadata": {},
   "outputs": [
    {
     "data": {
      "text/plain": [
       "{'instagram': 1.3333333333333333,\n",
       " 'github': 1.75,\n",
       " 'freecodecamp': 1.9166666666666665,\n",
       " 'youtube': 3.333333333333333,\n",
       " 'khan': 3.4166666666666665,\n",
       " 'wikipedia': 4.0,\n",
       " 'facebook': 4.25}"
      ]
     },
     "execution_count": 13,
     "metadata": {},
     "output_type": "execute_result"
    }
   ],
   "source": [
    "my_page_rank_algorithm(pages_links)"
   ]
  },
  {
   "cell_type": "markdown",
   "id": "a3141a51",
   "metadata": {},
   "source": [
    "After that I saw this <a href=\"https://www.youtube.com/watch?v=P8Kt6Abq_rM\">video</a> and implement the algorithm in code. <br>\n",
    "This algorithm is really accurate according to my simulator"
   ]
  },
  {
   "cell_type": "code",
   "execution_count": 14,
   "id": "d66189af",
   "metadata": {},
   "outputs": [],
   "source": [
    "def accurate_page_rank_algorithm(pages_links: dict) -> dict:\n",
    "    links_to_page = pages_degs_in(pages_links)\n",
    "    pages_popularity = {page: 1/len(pages_links) for page in pages_links}\n",
    "    holder = {page: 0 for page in pages_links}\n",
    "    for i in range(10**4):\n",
    "        for page in links_to_page:\n",
    "            for deg_in in links_to_page[page]:\n",
    "                holder[page] += pages_popularity[deg_in]/len(pages_links[deg_in])\n",
    "        pages_popularity = {page: holder[page] for page in holder}\n",
    "        holder = {page: 0 for page in pages_links}\n",
    "    pages_popularity = bubble_sort_dict(pages_popularity)\n",
    "    pages_popularity = {page: round(pages_popularity[page], 4) * 100 for page in pages_popularity}\n",
    "    return pages_popularity"
   ]
  },
  {
   "cell_type": "code",
   "execution_count": 15,
   "id": "ec3e01d8",
   "metadata": {},
   "outputs": [
    {
     "data": {
      "text/plain": [
       "{'instagram': 7.4399999999999995,\n",
       " 'github': 7.8,\n",
       " 'freecodecamp': 10.59,\n",
       " 'khan': 16.49,\n",
       " 'youtube': 17.07,\n",
       " 'wikipedia': 18.29,\n",
       " 'facebook': 22.33}"
      ]
     },
     "execution_count": 15,
     "metadata": {},
     "output_type": "execute_result"
    }
   ],
   "source": [
    "accurate_page_rank_algorithm(pages_links)"
   ]
  },
  {
   "cell_type": "code",
   "execution_count": 16,
   "id": "1a856ec8",
   "metadata": {},
   "outputs": [],
   "source": [
    "from bs4 import BeautifulSoup\n",
    "import requests"
   ]
  },
  {
   "cell_type": "code",
   "execution_count": 17,
   "id": "65e337ed",
   "metadata": {},
   "outputs": [],
   "source": [
    "def scrape_links(website):\n",
    "    website_connectios = []\n",
    "    res = requests.get(website)\n",
    "    soup = BeautifulSoup(res.text, 'html')\n",
    "    for link in soup.find_all('a', href=True):\n",
    "        if link['href'][:5] == 'https' and link['href'][-4:] != '.jpg': \n",
    "            website_connectios.append(link['href'])\n",
    "    return website_connectios"
   ]
  },
  {
   "cell_type": "code",
   "execution_count": 18,
   "id": "f0037da5",
   "metadata": {},
   "outputs": [],
   "source": [
    "def websites_crawler(start_website):\n",
    "    websites_graph = {start_website: scrape_links(start_website)}\n",
    "    next_webs = scrape_links(start_website)[:5]\n",
    "    checked_web = [start_website]\n",
    "    for x in range(10):\n",
    "        next_next_webs = [];\n",
    "        for web in next_webs:\n",
    "            if web not in checked_web:\n",
    "                checked_web.append(web)\n",
    "                websites_graph[web] = scrape_links(web)\n",
    "            for next_links in scrape_links(web):\n",
    "                    next_next_webs.append(next_links)\n",
    "        next_webs = next_next_webs[:5]\n",
    "    return websites_graph"
   ]
  },
  {
   "cell_type": "code",
   "execution_count": 19,
   "id": "3066d64f",
   "metadata": {},
   "outputs": [],
   "source": [
    "real_pages_links = websites_crawler('https://he.wikipedia.org/wiki/%D7%9E%D7%93%D7%A2%D7%99_%D7%94%D7%9E%D7%97%D7%A9%D7%91')"
   ]
  },
  {
   "cell_type": "markdown",
   "id": "c2325e53",
   "metadata": {},
   "source": [
    "note: accurate_page_rank_algorithm wont work here because not all connections are givien"
   ]
  },
  {
   "cell_type": "code",
   "execution_count": 20,
   "id": "e91d2f1b",
   "metadata": {},
   "outputs": [
    {
     "ename": "NameError",
     "evalue": "name 'rank_pages_simulator' is not defined",
     "output_type": "error",
     "traceback": [
      "\u001b[1;31m---------------------------------------------------------------------------\u001b[0m",
      "\u001b[1;31mNameError\u001b[0m                                 Traceback (most recent call last)",
      "\u001b[1;32m~\\AppData\\Local\\Temp/ipykernel_10948/1458385267.py\u001b[0m in \u001b[0;36m<module>\u001b[1;34m\u001b[0m\n\u001b[1;32m----> 1\u001b[1;33m \u001b[0mrank_pages_simulator\u001b[0m\u001b[1;33m(\u001b[0m\u001b[0mreal_pages_links\u001b[0m\u001b[1;33m)\u001b[0m\u001b[1;33m\u001b[0m\u001b[1;33m\u001b[0m\u001b[0m\n\u001b[0m",
      "\u001b[1;31mNameError\u001b[0m: name 'rank_pages_simulator' is not defined"
     ]
    }
   ],
   "source": [
    "rank_pages_simulator(real_pages_links)"
   ]
  },
  {
   "cell_type": "code",
   "execution_count": null,
   "id": "b181bb8c",
   "metadata": {},
   "outputs": [],
   "source": [
    "chart_pages_ranking(rank_pages_simulator(real_pages_links))"
   ]
  }
 ],
 "metadata": {
  "kernelspec": {
   "display_name": "Python 3 (ipykernel)",
   "language": "python",
   "name": "python3"
  },
  "language_info": {
   "codemirror_mode": {
    "name": "ipython",
    "version": 3
   },
   "file_extension": ".py",
   "mimetype": "text/x-python",
   "name": "python",
   "nbconvert_exporter": "python",
   "pygments_lexer": "ipython3",
   "version": "3.9.2"
  }
 },
 "nbformat": 4,
 "nbformat_minor": 5
}
