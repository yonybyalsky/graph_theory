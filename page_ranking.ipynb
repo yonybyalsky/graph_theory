{
 "cells": [
  {
   "cell_type": "code",
   "execution_count": 130,
   "id": "7692a851",
   "metadata": {},
   "outputs": [],
   "source": [
    "import random\n",
    "import matplotlib.pyplot as plt"
   ]
  },
  {
   "cell_type": "code",
   "execution_count": 148,
   "id": "6a5cb10e",
   "metadata": {},
   "outputs": [
    {
     "data": {
      "text/plain": [
       "{'wikipedia': {'deg_in': 2, 'deg_out': 3},\n",
       " 'facebook': {'deg_in': 4, 'deg_out': 2},\n",
       " 'youtube': {'deg_in': 3, 'deg_out': 4},\n",
       " 'instagram': {'deg_in': 1, 'deg_out': 2},\n",
       " 'github': {'deg_in': 2, 'deg_out': 3},\n",
       " 'freecodecamp': {'deg_in': 3, 'deg_out': 3},\n",
       " 'khan': {'deg_in': 4, 'deg_out': 2}}"
      ]
     },
     "execution_count": 148,
     "metadata": {},
     "output_type": "execute_result"
    }
   ],
   "source": [
    "pages_links = {\n",
    "    'wikipedia': ['youtube', 'facebook', 'khan'],\n",
    "    'facebook': ['youtube', 'instagram'],\n",
    "    'youtube': ['facebook', 'github', 'khan', 'freecodecamp'],\n",
    "    'instagram': ['facebook', 'freecodecamp'],\n",
    "    'github': ['freecodecamp', 'khan', 'wikipedia'],\n",
    "    'freecodecamp': ['khan', 'github', 'youtube'],\n",
    "    'khan': ['wikipedia', 'facebook']\n",
    "}\n",
    "pages_entrances = {}\n",
    "pages_degs = {}\n",
    "for page in pages_links:\n",
    "    pages_entrances[page] = 0\n",
    "    pages_degs[page] = {'deg_in': 0, 'deg_out': len(pages_links[page])}\n",
    "for page in pages_links:\n",
    "    for page_link in pages_links[page]:\n",
    "        pages_degs[page_link]['deg_in'] += 1\n",
    "pages_degs"
   ]
  },
  {
   "cell_type": "code",
   "execution_count": 141,
   "id": "7c04a4f0",
   "metadata": {},
   "outputs": [
    {
     "name": "stdout",
     "output_type": "stream",
     "text": [
      "done\n"
     ]
    }
   ],
   "source": [
    "current_page = 'wikipedia'\n",
    "for i in range(0, 100000):\n",
    "    current_page = random.choice(pages_links[current_page])\n",
    "    pages_entrances[current_page] += 1\n",
    "print('done')"
   ]
  },
  {
   "cell_type": "code",
   "execution_count": 142,
   "id": "dc5d2a15",
   "metadata": {},
   "outputs": [
    {
     "name": "stdout",
     "output_type": "stream",
     "text": [
      "[10944, 21587, 18691, 10819, 8988, 13093, 15878]\n"
     ]
    }
   ],
   "source": [
    "websites = list(pages_entrances.keys())\n",
    "entrances = list(pages_entrances.values())\n",
    "print(entrances)"
   ]
  },
  {
   "cell_type": "code",
   "execution_count": 143,
   "id": "a254c70a",
   "metadata": {},
   "outputs": [
    {
     "data": {
      "image/png": "[encoded data removed]",
      "text/plain": [
       "<Figure size 432x288 with 1 Axes>"
      ]
     },
     "metadata": {
      "needs_background": "light"
     },
     "output_type": "display_data"
    }
   ],
   "source": [
    "plt.bar(websites, entrances, color ='maroon',\n",
    "        width = 0.4)\n",
    " \n",
    "plt.xlabel('websites')\n",
    "plt.ylabel(\"No. of entrances to website\")\n",
    "plt.title('')\n",
    "plt.show()"
   ]
  },
  {
   "cell_type": "code",
   "execution_count": null,
   "id": "4a01212f",
   "metadata": {},
   "outputs": [],
   "source": []
  },
  {
   "cell_type": "code",
   "execution_count": null,
   "id": "49331353",
   "metadata": {},
   "outputs": [],
   "source": []
  }
 ],
 "metadata": {
  "kernelspec": {
   "display_name": "Python 3 (ipykernel)",
   "language": "python",
   "name": "python3"
  },
  "language_info": {
   "codemirror_mode": {
    "name": "ipython",
    "version": 3
   },
   "file_extension": ".py",
   "mimetype": "text/x-python",
   "name": "python",
   "nbconvert_exporter": "python",
   "pygments_lexer": "ipython3",
   "version": "3.9.2"
  }
 },
 "nbformat": 4,
 "nbformat_minor": 5
}
