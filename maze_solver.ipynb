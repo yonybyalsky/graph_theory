{
 "cells": [
  {
   "cell_type": "code",
   "execution_count": 3,
   "id": "24de9595",
   "metadata": {},
   "outputs": [],
   "source": [
    "import numpy as np\n",
    "import matplotlib.pyplot as plt"
   ]
  },
  {
   "cell_type": "code",
   "execution_count": 156,
   "id": "de6d2a26",
   "metadata": {},
   "outputs": [
    {
     "data": {
      "text/plain": [
       "<matplotlib.image.AxesImage at 0x218a26101f0>"
      ]
     },
     "execution_count": 156,
     "metadata": {},
     "output_type": "execute_result"
    },
    {
     "data": {
      "image/png": "[encoded data removed]",
      "text/plain": [
       "<Figure size 432x288 with 1 Axes>"
      ]
     },
     "metadata": {
      "needs_background": "light"
     },
     "output_type": "display_data"
    }
   ],
   "source": [
    "maze_list = [[0, 1, 0, 0, 0],\n",
    "             [0, 0, 0, 1, 0],\n",
    "             [0, 1, 0, 1, 0], \n",
    "             [0, 0, 0, 1, 0]]\n",
    "maze_arr = np.array(maze_list)\n",
    "plt.imshow(maze_arr, cmap = 'Accent')"
   ]
  },
  {
   "cell_type": "code",
   "execution_count": 157,
   "id": "03e1fabf",
   "metadata": {},
   "outputs": [],
   "source": [
    "def func(maze_arr):\n",
    "    graph_dict = {}\n",
    "    near_coords = []\n",
    "    x, y = 0, 0\n",
    "    for row in maze_arr:\n",
    "        for column in row:\n",
    "            if maze_arr[y, x] != 1:\n",
    "                if y != 0 and maze_arr[y-1, x] != 1:\n",
    "                    near_coords.append((x, y-1))\n",
    "\n",
    "                if y != len(maze_arr)-1 and maze_arr[y+1, x] != 1:\n",
    "                    near_coords.append((x, y+1))\n",
    "\n",
    "                if x != 0 and maze_arr[y, x-1] != 1:\n",
    "                    near_coords.append((x-1, y))\n",
    "\n",
    "                if x != len(maze_arr[0])-1 and maze_arr[y, x+1] != 1: \n",
    "                    near_coords.append((x+1, y))\n",
    "\n",
    "                graph_dict[(x, y)] = near_coords\n",
    "\n",
    "                near_coords = []\n",
    "            x += 1\n",
    "        y += 1\n",
    "        x = 0\n",
    "    \n",
    "    \n",
    "    return graph_dict"
   ]
  },
  {
   "cell_type": "code",
   "execution_count": 158,
   "id": "174343e8",
   "metadata": {},
   "outputs": [
    {
     "data": {
      "text/plain": [
       "{(0, 0): [(0, 1)],\n",
       " (2, 0): [(2, 1), (3, 0)],\n",
       " (3, 0): [(2, 0), (4, 0)],\n",
       " (4, 0): [(4, 1), (3, 0)],\n",
       " (0, 1): [(0, 0), (0, 2), (1, 1)],\n",
       " (1, 1): [(0, 1), (2, 1)],\n",
       " (2, 1): [(2, 0), (2, 2), (1, 1)],\n",
       " (4, 1): [(4, 0), (4, 2)],\n",
       " (0, 2): [(0, 1), (0, 3)],\n",
       " (2, 2): [(2, 1), (2, 3)],\n",
       " (4, 2): [(4, 1), (4, 3)],\n",
       " (0, 3): [(0, 2), (1, 3)],\n",
       " (1, 3): [(0, 3), (2, 3)],\n",
       " (2, 3): [(2, 2), (1, 3)],\n",
       " (4, 3): [(4, 2)]}"
      ]
     },
     "execution_count": 158,
     "metadata": {},
     "output_type": "execute_result"
    }
   ],
   "source": [
    "\n",
    "\n",
    "func(maze_arr)"
   ]
  },
  {
   "cell_type": "code",
   "execution_count": 166,
   "id": "f9925d5a",
   "metadata": {},
   "outputs": [],
   "source": [
    "def min_distance(graph_dict):\n",
    "    current_nodes = [(0, 0)]\n",
    "    next_nodes = []\n",
    "    path = []\n",
    "    while (4, 3) not in current_nodes:\n",
    "        next_nodes = []\n",
    "        for node in current_nodes:\n",
    "            path.append(node)\n",
    "            for next_node in graph_dict[node]:\n",
    "                if next_node not in path:\n",
    "                    next_nodes.append(next_node)\n",
    "        current_nodes = next_nodes\n",
    "        print(current_nodes)\n",
    "    return path"
   ]
  },
  {
   "cell_type": "code",
   "execution_count": 167,
   "id": "ea6345f0",
   "metadata": {
    "scrolled": false
   },
   "outputs": [
    {
     "name": "stdout",
     "output_type": "stream",
     "text": [
      "[(0, 1)]\n",
      "[(0, 2), (1, 1)]\n",
      "[(0, 3), (2, 1)]\n",
      "[(1, 3), (2, 0), (2, 2)]\n",
      "[(2, 3), (3, 0), (2, 3)]\n",
      "[(4, 0)]\n",
      "[(4, 1)]\n",
      "[(4, 2)]\n",
      "[(4, 3)]\n"
     ]
    },
    {
     "data": {
      "text/plain": [
       "[(0, 0),\n",
       " (0, 1),\n",
       " (0, 2),\n",
       " (1, 1),\n",
       " (0, 3),\n",
       " (2, 1),\n",
       " (1, 3),\n",
       " (2, 0),\n",
       " (2, 2),\n",
       " (2, 3),\n",
       " (3, 0),\n",
       " (2, 3),\n",
       " (4, 0),\n",
       " (4, 1),\n",
       " (4, 2)]"
      ]
     },
     "execution_count": 167,
     "metadata": {},
     "output_type": "execute_result"
    }
   ],
   "source": [
    "min_distance(func(maze_arr))"
   ]
  },
  {
   "cell_type": "code",
   "execution_count": 161,
   "id": "706d0203",
   "metadata": {},
   "outputs": [],
   "source": [
    "d = min_distance(func(maze_arr))\n",
    "row = 0\n",
    "column = 0\n",
    "while row < len(maze_arr):\n",
    "    while column < len(maze_arr[row]):\n",
    "        if (column, row) in d:\n",
    "            maze_arr[row, column] = 2 \n",
    "        column += 1\n",
    "    column = 0\n",
    "    row += 1"
   ]
  },
  {
   "cell_type": "code",
   "execution_count": 162,
   "id": "334bb58b",
   "metadata": {},
   "outputs": [
    {
     "data": {
      "text/plain": [
       "<matplotlib.image.AxesImage at 0x218a2671be0>"
      ]
     },
     "execution_count": 162,
     "metadata": {},
     "output_type": "execute_result"
    },
    {
     "data": {
      "image/png": "[encoded data removed]",
      "text/plain": [
       "<Figure size 432x288 with 1 Axes>"
      ]
     },
     "metadata": {
      "needs_background": "light"
     },
     "output_type": "display_data"
    }
   ],
   "source": [
    "plt.imshow(maze_arr, cmap = 'Accent')"
   ]
  },
  {
   "cell_type": "code",
   "execution_count": null,
   "id": "03941d5e",
   "metadata": {},
   "outputs": [],
   "source": []
  }
 ],
 "metadata": {
  "kernelspec": {
   "display_name": "Python 3 (ipykernel)",
   "language": "python",
   "name": "python3"
  },
  "language_info": {
   "codemirror_mode": {
    "name": "ipython",
    "version": 3
   },
   "file_extension": ".py",
   "mimetype": "text/x-python",
   "name": "python",
   "nbconvert_exporter": "python",
   "pygments_lexer": "ipython3",
   "version": "3.9.2"
  }
 },
 "nbformat": 4,
 "nbformat_minor": 5
}
