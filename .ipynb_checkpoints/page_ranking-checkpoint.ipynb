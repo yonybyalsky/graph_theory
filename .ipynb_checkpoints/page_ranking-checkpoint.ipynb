{
 "cells": [
  {
   "cell_type": "code",
   "execution_count": 1,
   "id": "47c8163a",
   "metadata": {},
   "outputs": [],
   "source": [
    "import random\n",
    "import matplotlib.pyplot as plt\n",
    "import math"
   ]
  },
  {
   "cell_type": "code",
   "execution_count": 2,
   "id": "8fe4f4ae",
   "metadata": {},
   "outputs": [],
   "source": [
    "pages_links = {\n",
    "    'wikipedia': ['youtube', 'facebook', 'khan'],\n",
    "    'facebook': ['youtube', 'instagram', 'wikipedia'],\n",
    "    'youtube': ['facebook', 'github', 'khan', 'freecodecamp'],\n",
    "    'instagram': ['facebook', 'freecodecamp'],\n",
    "    'github': ['freecodecamp', 'khan', 'wikipedia'],\n",
    "    'freecodecamp': ['khan', 'github', 'youtube'],\n",
    "    'khan': ['wikipedia', 'facebook'],\n",
    "}"
   ]
  },
  {
   "cell_type": "markdown",
   "id": "62c41062",
   "metadata": {},
   "source": [
    "to make it more easy to sea what are the most popular and least popular pages:"
   ]
  },
  {
   "cell_type": "code",
   "execution_count": 3,
   "id": "fa5aa054",
   "metadata": {},
   "outputs": [],
   "source": [
    "def bubble_sort_dict(dict_to_sort: dict) -> dict:\n",
    "    dict_items = list(dict_to_sort.items())\n",
    "    for i in range(len(dict_items)):\n",
    "        for j in range(len(dict_items) - 1):\n",
    "            if dict_items[j][1] > dict_items[j + 1][1]:\n",
    "                dict_items[j], dict_items[j + 1] = dict_items[j + 1], dict_items[j]\n",
    "    return dict(dict_items)"
   ]
  },
  {
   "cell_type": "markdown",
   "id": "675d6258",
   "metadata": {},
   "source": [
    "simulator that rank the pages:"
   ]
  },
  {
   "cell_type": "code",
   "execution_count": 4,
   "id": "24ba7a9f",
   "metadata": {},
   "outputs": [],
   "source": [
    "def rank_pages_simulator(pages_links: dict) -> dict:\n",
    "    pages_entrances = {page: 0 for page in pages_links}\n",
    "    current_page = random.choice(list(pages_links.keys()))\n",
    "    for i in range(len(pages_links) * 10**4):\n",
    "        try:\n",
    "            current_page = random.choice(pages_links[current_page])\n",
    "            pages_entrances[current_page] += 1/(len(pages_links) * 10**2)\n",
    "        except:\n",
    "            current_page = random.choice(list(pages_links.keys()))\n",
    "    pages_entrances = {page: round(pages_entrances[page], 2) for page in pages_entrances}\n",
    "    pages_entrances = bubble_sort_dict(pages_entrances)\n",
    "    return pages_entrances"
   ]
  },
  {
   "cell_type": "code",
   "execution_count": 5,
   "id": "f4b54950",
   "metadata": {},
   "outputs": [
    {
     "data": {
      "text/plain": [
       "{'instagram': 7.3,\n",
       " 'github': 7.78,\n",
       " 'freecodecamp': 10.62,\n",
       " 'khan': 16.54,\n",
       " 'youtube': 17.23,\n",
       " 'wikipedia': 18.39,\n",
       " 'facebook': 22.15}"
      ]
     },
     "execution_count": 5,
     "metadata": {},
     "output_type": "execute_result"
    }
   ],
   "source": [
    "rank_pages_simulator(pages_links)"
   ]
  },
  {
   "cell_type": "markdown",
   "id": "7f905f97",
   "metadata": {},
   "source": [
    "function that chart the pages ranking:"
   ]
  },
  {
   "cell_type": "code",
   "execution_count": 6,
   "id": "22f98ba6",
   "metadata": {},
   "outputs": [],
   "source": [
    "def chart_pages_ranking(pages_entrances: dict):\n",
    "    websites = list(pages_entrances.keys())\n",
    "    entrances = list(pages_entrances.values())\n",
    "    plt.bar(websites, entrances, color ='maroon',width = 0.4)\n",
    " \n",
    "    plt.xlabel('websites')\n",
    "    plt.ylabel(\"No. of entrances to website\")\n",
    "    plt.show()"
   ]
  },
  {
   "cell_type": "code",
   "execution_count": 7,
   "id": "3a836a4c",
   "metadata": {},
   "outputs": [
    {
     "data": {
      "image/png": "[encoded data removed]",
      "text/plain": [
       "<Figure size 432x288 with 1 Axes>"
      ]
     },
     "metadata": {
      "needs_background": "light"
     },
     "output_type": "display_data"
    }
   ],
   "source": [
    "chart_pages_ranking(rank_pages_simulator(pages_links))"
   ]
  },
  {
   "cell_type": "markdown",
   "id": "b258e011",
   "metadata": {},
   "source": [
    "to get the websites that pointing to the website"
   ]
  },
  {
   "cell_type": "code",
   "execution_count": 8,
   "id": "39f48e7d",
   "metadata": {},
   "outputs": [],
   "source": [
    "def pages_degs_in(pages_links: dict) -> dict:\n",
    "    pages_degs_in = {page: [] for page in pages_links}\n",
    "    for page in pages_links:\n",
    "        for link_page in pages_links[page]:\n",
    "            pages_degs_in[link_page].append(page)\n",
    "    return pages_degs_in"
   ]
  },
  {
   "cell_type": "code",
   "execution_count": 9,
   "id": "9a830dc9",
   "metadata": {},
   "outputs": [
    {
     "data": {
      "text/plain": [
       "{'wikipedia': ['facebook', 'github', 'khan'],\n",
       " 'facebook': ['wikipedia', 'youtube', 'instagram', 'khan'],\n",
       " 'youtube': ['wikipedia', 'facebook', 'freecodecamp'],\n",
       " 'instagram': ['facebook'],\n",
       " 'github': ['youtube', 'freecodecamp'],\n",
       " 'freecodecamp': ['youtube', 'instagram', 'github'],\n",
       " 'khan': ['wikipedia', 'youtube', 'github', 'freecodecamp']}"
      ]
     },
     "execution_count": 9,
     "metadata": {},
     "output_type": "execute_result"
    }
   ],
   "source": [
    "pages_degs_in(pages_links)"
   ]
  },
  {
   "cell_type": "markdown",
   "id": "a3bbb5d7",
   "metadata": {},
   "source": [
    "the best algorithm i could think of: <br>\n",
    "<ol>\n",
    " <li> given the amount of deg-in and deg-out of a page. the <b>page value</b> will be <b>deg-in / deg-out</b>. </li>\n",
    " <li> the page popularity will be the <b>sum</b> of the <b>pages values</b> that <b>link</b> to him. </li>\n",
    "</ol>\n",
    "the algorithm is not so accurate but its the best I could."
   ]
  },
  {
   "cell_type": "code",
   "execution_count": 10,
   "id": "825c8794",
   "metadata": {},
   "outputs": [],
   "source": [
    "def my_rank_pages_algorithm(pages_links: dict) -> dict:    \n",
    "    pages_values = {page: len(pages_degs_in(pages_links)[page]) / len(pages_links[page]) for page in pages_links}\n",
    "    pages_popularity = {page: 0 for page in pages_links}\n",
    "    for page in pages_links:\n",
    "        for link_page in pages_links[page]:\n",
    "            pages_popularity[link_page] += pages_values[page]\n",
    "    pages_popularity = bubble_sort_dict(pages_popularity)\n",
    "    return pages_popularity"
   ]
  },
  {
   "cell_type": "code",
   "execution_count": 11,
   "id": "e6778386",
   "metadata": {},
   "outputs": [
    {
     "data": {
      "text/plain": [
       "{'instagram': 1.3333333333333333,\n",
       " 'github': 1.75,\n",
       " 'freecodecamp': 1.9166666666666665,\n",
       " 'youtube': 3.333333333333333,\n",
       " 'khan': 3.4166666666666665,\n",
       " 'wikipedia': 4.0,\n",
       " 'facebook': 4.25}"
      ]
     },
     "execution_count": 11,
     "metadata": {},
     "output_type": "execute_result"
    }
   ],
   "source": [
    "my_rank_pages_algorithm(pages_links)"
   ]
  },
  {
   "cell_type": "markdown",
   "id": "5d60d195",
   "metadata": {},
   "source": [
    "After that I saw this <a href=\"https://www.youtube.com/watch?v=P8Kt6Abq_rM\">video</a> and implement the algorithm in code. <br>\n",
    "This algorithm is really accurate according to my simulator"
   ]
  },
  {
   "cell_type": "code",
   "execution_count": 12,
   "id": "05273c82",
   "metadata": {},
   "outputs": [],
   "source": [
    "def working_algorithm(pages_links: dict) -> dict:\n",
    "    links_to_page = pages_degs_in(pages_links)\n",
    "    pages_popularity = {page: 1/len(pages_links) for page in pages_links}\n",
    "    holder = {page: 0 for page in pages_links}\n",
    "    for i in range(10**4):\n",
    "        for page in links_to_page:\n",
    "            for deg_in in links_to_page[page]:\n",
    "                holder[page] += pages_popularity[deg_in]/len(pages_links[deg_in])\n",
    "        pages_popularity = {page: holder[page] for page in holder}\n",
    "        holder = {page: 0 for page in pages_links}\n",
    "    pages_popularity = bubble_sort_dict(pages_popularity)\n",
    "    pages_popularity = {page: round(pages_popularity[page], 4) * 100 for page in pages_popularity}\n",
    "    return pages_popularity"
   ]
  },
  {
   "cell_type": "code",
   "execution_count": 13,
   "id": "00af6098",
   "metadata": {},
   "outputs": [
    {
     "data": {
      "text/plain": [
       "{'instagram': 7.4399999999999995,\n",
       " 'github': 7.8,\n",
       " 'freecodecamp': 10.59,\n",
       " 'khan': 16.49,\n",
       " 'youtube': 17.07,\n",
       " 'wikipedia': 18.29,\n",
       " 'facebook': 22.33}"
      ]
     },
     "execution_count": 13,
     "metadata": {},
     "output_type": "execute_result"
    }
   ],
   "source": [
    "working_algorithm(pages_links)"
   ]
  },
  {
   "cell_type": "code",
   "execution_count": 17,
   "id": "1a856ec8",
   "metadata": {},
   "outputs": [],
   "source": [
    "from bs4 import BeautifulSoup\n",
    "import requests"
   ]
  },
  {
   "cell_type": "code",
   "execution_count": 18,
   "id": "65e337ed",
   "metadata": {},
   "outputs": [],
   "source": [
    "def scrape_links(website):\n",
    "    website_connectios = []\n",
    "    res = requests.get(website)\n",
    "    soup = BeautifulSoup(res.text, 'html')\n",
    "    for link in soup.find_all('a', href=True):\n",
    "        if link['href'][:5] == 'https' and link['href'][-4:] != '.jpg': \n",
    "            website_connectios.append(link['href'])\n",
    "    return website_connectios"
   ]
  },
  {
   "cell_type": "code",
   "execution_count": 19,
   "id": "f0037da5",
   "metadata": {},
   "outputs": [],
   "source": [
    "def websites_crawler(start_website):\n",
    "    websites_graph = {start_website: scrape_links(start_website)}\n",
    "    next_webs = scrape_links(start_website)[:5]\n",
    "    checked_web = [start_website]\n",
    "    for x in range(10):\n",
    "        next_next_webs = [];\n",
    "        for web in next_webs:\n",
    "            if web not in checked_web:\n",
    "                checked_web.append(web)\n",
    "                websites_graph[web] = scrape_links(web)\n",
    "            for next_links in scrape_links(web):\n",
    "                    next_next_webs.append(next_links)\n",
    "        next_webs = next_next_webs[:5]\n",
    "    return websites_graph"
   ]
  },
  {
   "cell_type": "code",
   "execution_count": null,
   "id": "3066d64f",
   "metadata": {},
   "outputs": [],
   "source": [
    "k = websites_crawler('https://he.wikipedia.org/wiki/%D7%9E%D7%93%D7%A2%D7%99_%D7%94%D7%9E%D7%97%D7%A9%D7%91')"
   ]
  },
  {
   "cell_type": "code",
   "execution_count": null,
   "id": "76cf6b3f",
   "metadata": {},
   "outputs": [],
   "source": [
    "woking_algorithm(k)"
   ]
  },
  {
   "cell_type": "code",
   "execution_count": null,
   "id": "fb5cfbe0",
   "metadata": {},
   "outputs": [],
   "source": [
    "chart_pages_ranking(working_algorithm(k))"
   ]
  },
  {
   "cell_type": "code",
   "execution_count": null,
   "id": "10317f53",
   "metadata": {},
   "outputs": [],
   "source": [
    "print('done')"
   ]
  },
  {
   "cell_type": "code",
   "execution_count": null,
   "id": "a83413c2",
   "metadata": {},
   "outputs": [],
   "source": []
  }
 ],
 "metadata": {
  "kernelspec": {
   "display_name": "Python 3 (ipykernel)",
   "language": "python",
   "name": "python3"
  },
  "language_info": {
   "codemirror_mode": {
    "name": "ipython",
    "version": 3
   },
   "file_extension": ".py",
   "mimetype": "text/x-python",
   "name": "python",
   "nbconvert_exporter": "python",
   "pygments_lexer": "ipython3",
   "version": "3.9.2"
  }
 },
 "nbformat": 4,
 "nbformat_minor": 5
}
