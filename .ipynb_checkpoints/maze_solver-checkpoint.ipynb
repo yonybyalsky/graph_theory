{
 "cells": [
  {
   "cell_type": "code",
   "execution_count": 67,
   "id": "24de9595",
   "metadata": {},
   "outputs": [],
   "source": [
    "import numpy as np\n",
    "import matplotlib.pyplot as plt"
   ]
  },
  {
   "cell_type": "code",
   "execution_count": 68,
   "id": "de6d2a26",
   "metadata": {},
   "outputs": [
    {
     "data": {
      "text/plain": [
       "<matplotlib.image.AxesImage at 0x1808edf0280>"
      ]
     },
     "execution_count": 68,
     "metadata": {},
     "output_type": "execute_result"
    },
    {
     "data": {
      "image/png": "[encoded data removed]",
      "text/plain": [
       "<Figure size 432x288 with 1 Axes>"
      ]
     },
     "metadata": {
      "needs_background": "light"
     },
     "output_type": "display_data"
    }
   ],
   "source": [
    "maze_list = [[0, 0, 0, 0, 0],\n",
    "             [0, 1, 0, 1, 0],\n",
    "             [0, 1, 0, 1, 0], \n",
    "             [0, 1, 0, 1, 0],\n",
    "             [0, 0, 1, 0, 0]]\n",
    "maze_arr = np.array(maze_list)\n",
    "plt.imshow(maze_arr, cmap = 'Accent')"
   ]
  },
  {
   "cell_type": "code",
   "execution_count": 69,
   "id": "03e1fabf",
   "metadata": {},
   "outputs": [],
   "source": [
    "def array_to_graph(maze_arr):\n",
    "    graph_dict = {}\n",
    "    near_coords = []\n",
    "    x, y = 0, 0\n",
    "    for row in maze_arr:\n",
    "        for column in row:\n",
    "            if maze_arr[y, x] != 1:\n",
    "                if y != 0 and maze_arr[y-1, x] != 1:\n",
    "                    near_coords.append((x, y-1))\n",
    "                if y != len(maze_arr)-1 and maze_arr[y+1, x] != 1:\n",
    "                    near_coords.append((x, y+1))\n",
    "                if x != 0 and maze_arr[y, x-1] != 1:\n",
    "                    near_coords.append((x-1, y))\n",
    "                if x != len(maze_arr[0])-1 and maze_arr[y, x+1] != 1: \n",
    "                    near_coords.append((x+1, y))\n",
    "                graph_dict[(x, y)] = near_coords\n",
    "                near_coords = []\n",
    "            x += 1\n",
    "        y += 1\n",
    "        x = 0\n",
    "    return graph_dict"
   ]
  },
  {
   "cell_type": "code",
   "execution_count": 70,
   "id": "f9925d5a",
   "metadata": {},
   "outputs": [],
   "source": [
    "def maze_solver(maze_array):\n",
    "    graph_dict = array_to_graph(maze_array)\n",
    "    current_nodes = [(0, 0)]\n",
    "    next_nodes = []\n",
    "    path = []\n",
    "    level_path = []\n",
    "    while (len(maze_array[0]) -1, len(maze_array) - 1) not in current_nodes:\n",
    "        next_nodes = []\n",
    "        for node in current_nodes:\n",
    "            path.append(node)\n",
    "            for next_node in graph_dict[node]:\n",
    "                if next_node not in path:\n",
    "                    if next_node not in next_nodes:\n",
    "                        next_nodes.append(next_node)\n",
    "        current_nodes = next_nodes\n",
    "        level_path.append(current_nodes)\n",
    "    return level_path"
   ]
  },
  {
   "cell_type": "code",
   "execution_count": 71,
   "id": "03941d5e",
   "metadata": {},
   "outputs": [],
   "source": [
    "def two_nodes_solver(maze_array, source_node, target_node):\n",
    "    graph_dict = array_to_graph(maze_array)\n",
    "    current_nodes = [source_node]\n",
    "    next_nodes = []\n",
    "    path = []\n",
    "    level_path = []\n",
    "    while (target_node) not in current_nodes:\n",
    "        next_nodes = []\n",
    "        for node in current_nodes:\n",
    "            path.append(node)\n",
    "            for next_node in graph_dict[node]:\n",
    "                if next_node not in path:\n",
    "                    if next_node not in next_nodes:\n",
    "                        next_nodes.append(next_node)\n",
    "        current_nodes = next_nodes\n",
    "        level_path.append(current_nodes)\n",
    "    return level_path"
   ]
  },
  {
   "cell_type": "code",
   "execution_count": 72,
   "id": "1daaa09a",
   "metadata": {},
   "outputs": [
    {
     "data": {
      "text/plain": [
       "[[(0, 1), (1, 0)],\n",
       " [(0, 2), (2, 0)],\n",
       " [(0, 3), (2, 1), (3, 0)],\n",
       " [(0, 4), (2, 2), (4, 0)],\n",
       " [(1, 4), (2, 3), (4, 1)],\n",
       " [(4, 2)],\n",
       " [(4, 3)],\n",
       " [(4, 4)]]"
      ]
     },
     "execution_count": 72,
     "metadata": {},
     "output_type": "execute_result"
    }
   ],
   "source": [
    "maze_solver(maze_arr)"
   ]
  },
  {
   "cell_type": "code",
   "execution_count": 73,
   "id": "0c9fbb01",
   "metadata": {},
   "outputs": [
    {
     "data": {
      "text/plain": [
       "[[(0, 0), (0, 2)],\n",
       " [(1, 0), (0, 3)],\n",
       " [(2, 0), (0, 4)],\n",
       " [(2, 1), (3, 0), (1, 4)],\n",
       " [(2, 2), (4, 0)],\n",
       " [(2, 3), (4, 1)]]"
      ]
     },
     "execution_count": 73,
     "metadata": {},
     "output_type": "execute_result"
    }
   ],
   "source": [
    "two_nodes_solver(maze_arr, (0, 1), (2, 3))"
   ]
  }
 ],
 "metadata": {
  "kernelspec": {
   "display_name": "Python 3 (ipykernel)",
   "language": "python",
   "name": "python3"
  },
  "language_info": {
   "codemirror_mode": {
    "name": "ipython",
    "version": 3
   },
   "file_extension": ".py",
   "mimetype": "text/x-python",
   "name": "python",
   "nbconvert_exporter": "python",
   "pygments_lexer": "ipython3",
   "version": "3.9.2"
  }
 },
 "nbformat": 4,
 "nbformat_minor": 5
}
